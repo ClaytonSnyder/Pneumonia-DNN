{
 "cells": [
  {
   "cell_type": "code",
   "execution_count": 2,
   "metadata": {},
   "outputs": [
    {
     "ename": "NameError",
     "evalue": "name 'project_name' is not defined",
     "output_type": "error",
     "traceback": [
      "\u001b[0;31m---------------------------------------------------------------------------\u001b[0m",
      "\u001b[0;31mNameError\u001b[0m                                 Traceback (most recent call last)",
      "Cell \u001b[0;32mIn[2], line 18\u001b[0m\n\u001b[1;32m     10\u001b[0m \u001b[38;5;28;01mfrom\u001b[39;00m \u001b[38;5;21;01mpneumonia_dnn\u001b[39;00m\u001b[38;5;21;01m.\u001b[39;00m\u001b[38;5;21;01mmodels\u001b[39;00m\u001b[38;5;21;01m.\u001b[39;00m\u001b[38;5;21;01mvitb16\u001b[39;00m \u001b[38;5;28;01mimport\u001b[39;00m run_vitb16\n\u001b[1;32m     11\u001b[0m \u001b[38;5;28;01mfrom\u001b[39;00m \u001b[38;5;21;01mpneumonia_dnn\u001b[39;00m\u001b[38;5;21;01m.\u001b[39;00m\u001b[38;5;21;01mutils\u001b[39;00m \u001b[38;5;28;01mimport\u001b[39;00m (\n\u001b[1;32m     12\u001b[0m     get_augmented_inputs,\n\u001b[1;32m     13\u001b[0m     get_project_configuration,\n\u001b[1;32m     14\u001b[0m     get_project_datasets,\n\u001b[1;32m     15\u001b[0m     save_train_session,\n\u001b[1;32m     16\u001b[0m )\n\u001b[0;32m---> 18\u001b[0m train_dataset, test_dataset \u001b[38;5;241m=\u001b[39m get_project_datasets(\u001b[43mproject_name\u001b[49m, projects_path)\n\u001b[1;32m     20\u001b[0m \u001b[38;5;28mprint\u001b[39m(\u001b[38;5;28mlen\u001b[39m(project_data))\n",
      "\u001b[0;31mNameError\u001b[0m: name 'project_name' is not defined"
     ]
    }
   ],
   "source": [
    "from pneumonia_dnn.dataset import update_dataset_from_metadata, create_dataset, DatasetClassifier\n",
    "from pneumonia_dnn.project import create_project\n",
    "import shutil\n",
    "from pneumonia_dnn.project import apply_augmentations\n",
    "from pneumonia_dnn.models.cnn import run_cnn\n",
    "import matplotlib.pyplot as plt\n",
    "from keras import backend\n",
    "from pneumonia_dnn.models.vit import run_vit\n",
    "from pneumonia_dnn.models.vgg16 import run_vgg16\n",
    "from pneumonia_dnn.models.vitb16 import run_vitb16\n",
    "from pneumonia_dnn.utils import (\n",
    "    get_augmented_inputs,\n",
    "    get_project_configuration,\n",
    "    get_project_datasets,\n",
    "    save_train_session,\n",
    ")\n"
   ]
  }
 ],
 "metadata": {
  "kernelspec": {
   "display_name": "tensorflow",
   "language": "python",
   "name": "python3"
  },
  "language_info": {
   "codemirror_mode": {
    "name": "ipython",
    "version": 3
   },
   "file_extension": ".py",
   "mimetype": "text/x-python",
   "name": "python",
   "nbconvert_exporter": "python",
   "pygments_lexer": "ipython3",
   "version": "3.10.13"
  }
 },
 "nbformat": 4,
 "nbformat_minor": 2
}
